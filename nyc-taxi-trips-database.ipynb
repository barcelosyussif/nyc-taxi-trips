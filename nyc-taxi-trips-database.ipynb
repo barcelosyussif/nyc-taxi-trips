{
 "cells": [
  {
   "cell_type": "markdown",
   "metadata": {},
   "source": [
    "# NYC Taxi Trips\n",
    "\n",
    "Criação de banco de dados e tabelas utilizados em análises.\n",
    "Os logs e execuções do Athena são armazenados na pasta \"s3://ytbd-nyctaxi/athena/\""
   ]
  },
  {
   "cell_type": "code",
   "execution_count": 1,
   "metadata": {},
   "outputs": [],
   "source": [
    "import os\n",
    "import time\n",
    "import boto3"
   ]
  },
  {
   "cell_type": "code",
   "execution_count": 2,
   "metadata": {},
   "outputs": [],
   "source": [
    "client = boto3.client('athena')"
   ]
  },
  {
   "cell_type": "code",
   "execution_count": 5,
   "metadata": {},
   "outputs": [
    {
     "name": "stdout",
     "output_type": "stream",
     "text": [
      "Cria database \"nyctaxi\" em Athena\n"
     ]
    }
   ],
   "source": [
    "print('Cria database \"nyctaxi\" em Athena')\n",
    "query = 'CREATE DATABASE nyctaxi'\n",
    "response = client.start_query_execution(\n",
    "    QueryString = query,\n",
    "    ResultConfiguration = {'OutputLocation': 's3://ytbd-nyctaxi/athena/'}\n",
    ")"
   ]
  },
  {
   "cell_type": "code",
   "execution_count": 6,
   "metadata": {},
   "outputs": [
    {
     "name": "stdout",
     "output_type": "stream",
     "text": [
      "Cria tabela \"nyctaxi\".\"payment\" em Athena com base em \"s3://ytbd-nyctaxi/payment\"\n"
     ]
    }
   ],
   "source": [
    "print('Cria tabela \"nyctaxi\".\"payment\" em Athena com base em \"s3://ytbd-nyctaxi/payment\"')\n",
    "query = 'CREATE EXTERNAL TABLE IF NOT EXISTS nyctaxi.payment (' \\\n",
    "        'payment_type string,' \\\n",
    "        'payment_lookup string' \\\n",
    "        ')' \\\n",
    "        'ROW FORMAT SERDE \\'org.apache.hadoop.hive.serde2.OpenCSVSerde\\'' \\\n",
    "        'LOCATION \\'s3://ytbd-nyctaxi/payment\\'' \\\n",
    "        'TBLPROPERTIES (' \\\n",
    "        '\"skip.header.line.count\"=\"2\"' \\\n",
    "        ')'\n",
    "response = client.start_query_execution(\n",
    "    QueryString = query,\n",
    "    ResultConfiguration = {'OutputLocation': 's3://ytbd-nyctaxi/athena/'}\n",
    ")"
   ]
  },
  {
   "cell_type": "code",
   "execution_count": 7,
   "metadata": {},
   "outputs": [
    {
     "name": "stdout",
     "output_type": "stream",
     "text": [
      "Cria tabela \"nyctaxi\".\"vendor\" em Athena com base em \"s3://ytbd-nyctaxi/vendor\"\n"
     ]
    }
   ],
   "source": [
    "print('Cria tabela \"nyctaxi\".\"vendor\" em Athena com base em \"s3://ytbd-nyctaxi/vendor\"')\n",
    "query = 'CREATE EXTERNAL TABLE IF NOT EXISTS nyctaxi.vendor (' \\\n",
    "        'vendor_id string,' \\\n",
    "        'name string,' \\\n",
    "        'address string,' \\\n",
    "        'city string,' \\\n",
    "        'state string,' \\\n",
    "        'zip int,' \\\n",
    "        'country string,' \\\n",
    "        'contact string,' \\\n",
    "        'current_contact string' \\\n",
    "        ')' \\\n",
    "        'ROW FORMAT SERDE \\'org.apache.hadoop.hive.serde2.OpenCSVSerde\\'' \\\n",
    "        'LOCATION \\'s3://ytbd-nyctaxi/vendor\\'' \\\n",
    "        'TBLPROPERTIES (' \\\n",
    "        '\"skip.header.line.count\"=\"1\"' \\\n",
    "        ')'\n",
    "response = client.start_query_execution(\n",
    "    QueryString = query,\n",
    "    ResultConfiguration = {'OutputLocation': 's3://ytbd-nyctaxi/athena/'}\n",
    ")"
   ]
  },
  {
   "cell_type": "code",
   "execution_count": 8,
   "metadata": {},
   "outputs": [
    {
     "name": "stdout",
     "output_type": "stream",
     "text": [
      "Cria tabela \"nyctaxi\".\"trips\" em Athena com base em \"s3://ytbd-nyctaxi/trips\"\n"
     ]
    }
   ],
   "source": [
    "print('Cria tabela \"nyctaxi\".\"trips\" em Athena com base em \"s3://ytbd-nyctaxi/trips\"')\n",
    "query = 'CREATE EXTERNAL TABLE IF NOT EXISTS nyctaxi.trips (' \\\n",
    "        'vendor_id string,' \\\n",
    "        'pickup_datetime string,' \\\n",
    "        'dropoff_datetime string,' \\\n",
    "        'passenger_count int,' \\\n",
    "        'trip_distance decimal(10,2),' \\\n",
    "        'pickup_longitude decimal(10,6),' \\\n",
    "        'pickup_latitude decimal(10,6),' \\\n",
    "        'rate_code string,' \\\n",
    "        'store_and_fwd_flag string,' \\\n",
    "        'dropoff_longitude decimal(10,6),' \\\n",
    "        'dropoff_latitude decimal(10,6),' \\\n",
    "        'payment_type string,' \\\n",
    "        'fare_amount decimal(10,2),' \\\n",
    "        'surcharge decimal(10,2),' \\\n",
    "        'tip_amount decimal(10,2),' \\\n",
    "        'tolls_amount decimal(10,2),' \\\n",
    "        'total_amount decimal(10,2)' \\\n",
    "        ')' \\\n",
    "        'ROW FORMAT SERDE \\'org.apache.hive.hcatalog.data.JsonSerDe\\'' \\\n",
    "        'LOCATION \\'s3://ytbd-nyctaxi/trips\\''\n",
    "response = client.start_query_execution(\n",
    "    QueryString = query,\n",
    "    ResultConfiguration = {'OutputLocation': 's3://ytbd-nyctaxi/athena/'}\n",
    ")"
   ]
  },
  {
   "cell_type": "code",
   "execution_count": null,
   "metadata": {},
   "outputs": [],
   "source": []
  }
 ],
 "metadata": {
  "kernelspec": {
   "display_name": "Python 3",
   "language": "python",
   "name": "python3"
  },
  "language_info": {
   "codemirror_mode": {
    "name": "ipython",
    "version": 3
   },
   "file_extension": ".py",
   "mimetype": "text/x-python",
   "name": "python",
   "nbconvert_exporter": "python",
   "pygments_lexer": "ipython3",
   "version": "3.5.2"
  }
 },
 "nbformat": 4,
 "nbformat_minor": 4
}
